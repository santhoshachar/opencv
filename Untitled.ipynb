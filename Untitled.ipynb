{
 "cells": [
  {
   "cell_type": "code",
   "execution_count": null,
   "metadata": {},
   "outputs": [],
   "source": [
    "import cv2\n",
    "import matplotlib.pyplot as plt\n",
    "import numpy as np\n",
    "def emptyfunction():\n",
    "    pass\n",
    "img1=np.zeros((512,512,3),np.uint8)\n",
    "cv2.namedWindow('colour pallet')\n",
    "cv2.createTrackbar('B','colour pallet',0,255,emptyfunction)\n",
    "cv2.createTrackbar('G','colour pallet',0,255,emptyfunction)\n",
    "cv2.createTrackbar('R','colour pallet',0,255,emptyfunction)\n",
    "while(True):\n",
    "    cv2.imshow('colour pallet',img1)\n",
    "    if cv2.waitKey(1)==27:\n",
    "        break\n",
    "    blue=cv2.getTrackbarPos('B','colour pallet')\n",
    "    green=cv2.getTrackbarPos('G','colour pallet')\n",
    "    red=cv2.getTrackbarPos('R','colour pallet')\n",
    "    img1[:]=[blue,green,red]\n",
    "cv2.destroyAllWindows()"
   ]
  }
 ],
 "metadata": {
  "kernelspec": {
   "display_name": "Python 3",
   "language": "python",
   "name": "python3"
  },
  "language_info": {
   "codemirror_mode": {
    "name": "ipython",
    "version": 3
   },
   "file_extension": ".py",
   "mimetype": "text/x-python",
   "name": "python",
   "nbconvert_exporter": "python",
   "pygments_lexer": "ipython3",
   "version": "3.7.1"
  }
 },
 "nbformat": 4,
 "nbformat_minor": 2
}
